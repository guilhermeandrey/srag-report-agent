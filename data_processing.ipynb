{
 "cells": [
  {
   "cell_type": "code",
   "execution_count": null,
   "id": "ecc951a4",
   "metadata": {},
   "outputs": [],
   "source": [
    "import pandas as pd\n",
    "import numpy as np"
   ]
  },
  {
   "cell_type": "code",
   "execution_count": null,
   "id": "4efcd379",
   "metadata": {},
   "outputs": [],
   "source": [
    "df24 = pd.read_csv(\"data/INFLUD24-26-06-2025.csv\", sep=';')\n",
    "df25 = pd.read_csv(\"data/INFLUD25-22-09-2025.csv\", sep=';')\n",
    "columns = [\n",
    "    \"NU_NOTIFIC\", \"DT_SIN_PRI\", \"UTI\", \"DT_ENTUTI\", \"DT_SAIDUTI\", \"HOSPITAL\", \"DT_INTERNA\", \"DT_ENCERRA\", \"EVOLUCAO\", \"VACINA\", \"DT_UT_DOSE\", \"VACINA_COV\"\n",
    "]\n",
    "df24 = df24[columns]\n",
    "df25 = df25[columns]\n",
    "df = pd.concat([df24, df25], ignore_index=True)\n",
    "df.to_parquet(\"data/OpenDataSUS-SRAG-24-25-raw.parquet\", engine=\"fastparquet\")"
   ]
  },
  {
   "cell_type": "code",
   "execution_count": null,
   "id": "04c507b1",
   "metadata": {},
   "outputs": [],
   "source": [
    "df = pd.read_parquet(\"data/OpenDataSUS-SRAG-24-25-raw.parquet\", engine=\"fastparquet\")\n",
    "df.rename(\n",
    "    columns={\n",
    "        \"NU_NOTIFIC\": \"id\",\n",
    "        \"DT_SIN_PRI\": \"data_inicio\",\n",
    "        \"UTI\": \"uti\",\n",
    "        \"DT_ENTUTI\": \"uti_inicio\",\n",
    "        \"DT_SAIDUTI\": \"uti_final\",\n",
    "        \"HOSPITAL\": \"internacao\",\n",
    "        \"DT_INTERNA\": \"internacao_inicio\",\n",
    "        \"DT_ENCERRA\": \"internacao_final\",\n",
    "        \"EVOLUCAO\": \"evolucao\",\n",
    "        \"VACINA\": \"vacina\",\n",
    "        \"DT_UT_DOSE\": \"data_vacina\",\n",
    "        \"VACINA_COV\": \"vacina_covid\",\n",
    "    },\n",
    "    inplace=True\n",
    ")\n",
    "df['uti'] = df['uti'].map({1.0: 1, 2.0: 0, 9.0: np.nan})\n",
    "df['internacao'] = df['internacao'].map({1.0: 1, 2.0: 0, 9.0: np.nan})\n",
    "df['vacina'] = df['vacina'].map({1.0: 1, 2.0: 0, 9.0: np.nan})\n",
    "df['vacina_covid'] = df['vacina_covid'].map({1.0: 1, 2.0: 0, 9.0: np.nan})\n",
    "\n",
    "df.to_parquet(\"data/OpenDataSUS-SRAG-24-25.parquet\", engine=\"fastparquet\")"
   ]
  }
 ],
 "metadata": {
  "kernelspec": {
   "display_name": "indicium",
   "language": "python",
   "name": "python3"
  },
  "language_info": {
   "codemirror_mode": {
    "name": "ipython",
    "version": 3
   },
   "file_extension": ".py",
   "mimetype": "text/x-python",
   "name": "python",
   "nbconvert_exporter": "python",
   "pygments_lexer": "ipython3",
   "version": "3.12.11"
  }
 },
 "nbformat": 4,
 "nbformat_minor": 5
}
